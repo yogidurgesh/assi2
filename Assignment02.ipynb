{
 "cells": [
  {
   "cell_type": "markdown",
   "metadata": {
    "id": "vh671fISyFQg"
   },
   "source": [
    "####1. What is indentation error? Why indentation is important? Give one simple example?\n",
    "\n",
    "Ans- In Conditional statement (If Else) the print statements not alligned properly will give indentation error so we have find a indentation error. and statement is not executed.\n"
   ]
  },
  {
   "cell_type": "code",
   "execution_count": 14,
   "metadata": {
    "colab": {
     "base_uri": "https://localhost:8080/",
     "height": 130
    },
    "executionInfo": {
     "elapsed": 1340,
     "status": "error",
     "timestamp": 1667493236778,
     "user": {
      "displayName": "durgesh yogi",
      "userId": "15245159410107607668"
     },
     "user_tz": -330
    },
    "id": "IWvwQVC20PFC",
    "outputId": "df5c32e5-f905-41ba-aa68-c0a46d29fbfc"
   },
   "outputs": [
    {
     "ename": "IndentationError",
     "evalue": "ignored",
     "output_type": "error",
     "traceback": [
      "\u001b[0;36m  File \u001b[0;32m\"<ipython-input-14-c24b3b54fbb9>\"\u001b[0;36m, line \u001b[0;32m2\u001b[0m\n\u001b[0;31m    print(\"Lets do work from home\")\u001b[0m\n\u001b[0m        ^\u001b[0m\n\u001b[0;31mIndentationError\u001b[0m\u001b[0;31m:\u001b[0m expected an indented block\n"
     ]
    }
   ],
   "source": [
    "if raining:\n",
    "print(\"Lets do work from home\")\n",
    "else:\n",
    "    print(\"Lets go to office\") # Indentation error"
   ]
  },
  {
   "cell_type": "markdown",
   "metadata": {
    "id": "FCqU_pKY0TgD"
   },
   "source": [
    "#### 2. Correct the following code and write the comment where you made the correction?"
   ]
  },
  {
   "cell_type": "code",
   "execution_count": 13,
   "metadata": {
    "colab": {
     "base_uri": "https://localhost:8080/"
    },
    "executionInfo": {
     "elapsed": 10658,
     "status": "ok",
     "timestamp": 1667492890082,
     "user": {
      "displayName": "durgesh yogi",
      "userId": "15245159410107607668"
     },
     "user_tz": -330
    },
    "id": "WHPz3U2j0fxY",
    "outputId": "31c86ff8-d402-4e35-c6a9-64d9a2c04b54"
   },
   "outputs": [
    {
     "name": "stdout",
     "output_type": "stream",
     "text": [
      "Hey friend, is class started?: [0-False/1-True]True\n",
      "Since class started...\n",
      "Lets concentrate\n"
     ]
    }
   ],
   "source": [
    "class_started = bool(input(\"Hey friend, is class started?: [0-False/1-True]\"))\n",
    "class_started = True  # (class_started = True)\n",
    "\n",
    "if class_started == True:\n",
    "   print(\"Since class started...\")\n",
    "   print(\"Lets concentrate\")\n",
    "else:\n",
    "   print(\"Since class is not started...\")\n",
    "   print(\"let's revise\")    #"
   ]
  },
  {
   "cell_type": "markdown",
   "metadata": {
    "id": "puH4R2jgWDzM"
   },
   "source": [
    "#### 3. Use if else condition to verify that dataype of input() method in python is always string."
   ]
  },
  {
   "cell_type": "code",
   "execution_count": 16,
   "metadata": {
    "colab": {
     "base_uri": "https://localhost:8080/"
    },
    "executionInfo": {
     "elapsed": 14473,
     "status": "ok",
     "timestamp": 1667493782253,
     "user": {
      "displayName": "durgesh yogi",
      "userId": "15245159410107607668"
     },
     "user_tz": -330
    },
    "id": "rw7kKItMXYKQ",
    "outputId": "c7b6f9aa-17e4-4c5d-c967-5c339713d625"
   },
   "outputs": [
    {
     "name": "stdout",
     "output_type": "stream",
     "text": [
      "Enter your name: Durgesh som yogi\n",
      "He is the mentor\n"
     ]
    }
   ],
   "source": [
    "name = input(\"Enter your name: \")\n",
    "\n",
    "if name == \"Durgesh som yogi\":\n",
    "    print(f\"He is the mentor\")\n",
    "else:\n",
    "    print(f\"Its possible that he/she is a student\")"
   ]
  },
  {
   "cell_type": "markdown",
   "metadata": {
    "id": "MpWKfd96YGVq"
   },
   "source": [
    "#### 4. Take 3 variables and assign integer values to them. Find the largest variable, by only using the if and else conditions."
   ]
  },
  {
   "cell_type": "code",
   "execution_count": 2,
   "metadata": {
    "id": "ktvJLC6FY97z"
   },
   "outputs": [
    {
     "name": "stdout",
     "output_type": "stream",
     "text": [
      "max is 9\n"
     ]
    }
   ],
   "source": [
    "a = 2\n",
    "b = 5\n",
    "c = 9\n",
    "if a > b and a > c:\n",
    "    print(f\"max is {a}\")\n",
    "elif b > c and b > a:\n",
    "          print(f\"max is {b}\")\n",
    "elif c > a and c > b:\n",
    "          print(f\"max is {c}\")\n",
    "else:\n",
    "    print(a)\n"
   ]
  },
  {
   "cell_type": "markdown",
   "metadata": {
    "id": "OCqpRQQEY-ce"
   },
   "source": [
    "#### 5. What would be the solution?\n",
    "\n",
    "1. True\n",
    "\n",
    "2. False\n"
   ]
  },
  {
   "cell_type": "code",
   "execution_count": 3,
   "metadata": {
    "id": "8MBIrXbxZUIG"
   },
   "outputs": [
    {
     "data": {
      "text/plain": [
       "True"
      ]
     },
     "execution_count": 3,
     "metadata": {},
     "output_type": "execute_result"
    }
   ],
   "source": [
    "\"yogi\" == \"yogi\""
   ]
  },
  {
   "cell_type": "markdown",
   "metadata": {
    "id": "vqpfFGPUbO8z"
   },
   "source": [
    "6. Find the answer as well as find out the reason behind the result?\n",
    "\n",
    ". case 1:"
   ]
  },
  {
   "cell_type": "code",
   "execution_count": 40,
   "metadata": {
    "colab": {
     "base_uri": "https://localhost:8080/"
    },
    "executionInfo": {
     "elapsed": 6,
     "status": "ok",
     "timestamp": 1667495719359,
     "user": {
      "displayName": "durgesh yogi",
      "userId": "15245159410107607668"
     },
     "user_tz": -330
    },
    "id": "6Uv0Cqfvbkrl",
    "outputId": "07fdb53e-263f-483c-be93-3b2996b325dc"
   },
   "outputs": [
    {
     "name": "stdout",
     "output_type": "stream",
     "text": [
      "False\n"
     ]
    }
   ],
   "source": [
    "A = 5.0\n",
    "B = 10/2\n",
    "print(A is B) \n"
   ]
  },
  {
   "cell_type": "code",
   "execution_count": 32,
   "metadata": {
    "colab": {
     "base_uri": "https://localhost:8080/"
    },
    "executionInfo": {
     "elapsed": 5,
     "status": "ok",
     "timestamp": 1667495269026,
     "user": {
      "displayName": "durgesh yogi",
      "userId": "15245159410107607668"
     },
     "user_tz": -330
    },
    "id": "aQaSQFV1dij0",
    "outputId": "eb14468f-2c20-494c-a697-695daa7b7c38"
   },
   "outputs": [
    {
     "name": "stdout",
     "output_type": "stream",
     "text": [
      "False\n"
     ]
    }
   ],
   "source": [
    "A = 5.0\n",
    "B = int(10/2)\n",
    "print(A is B)"
   ]
  },
  {
   "cell_type": "code",
   "execution_count": 33,
   "metadata": {
    "colab": {
     "base_uri": "https://localhost:8080/"
    },
    "executionInfo": {
     "elapsed": 8,
     "status": "ok",
     "timestamp": 1667495301784,
     "user": {
      "displayName": "durgesh yogi",
      "userId": "15245159410107607668"
     },
     "user_tz": -330
    },
    "id": "7jteltNUdtn0",
    "outputId": "7f3acf42-7c37-4296-b123-e250ce6cf0e2"
   },
   "outputs": [
    {
     "name": "stdout",
     "output_type": "stream",
     "text": [
      "False\n"
     ]
    }
   ],
   "source": [
    "A = 5.0\n",
    "B = float(10/2)\n",
    "print(A is B)"
   ]
  },
  {
   "cell_type": "markdown",
   "metadata": {
    "id": "MsrXg0Evf5fT"
   },
   "source": [
    "#### 7. Write a program that asks the user to enter a number. You should print out a message to the user, either “That number is divisible by either 3 or 5”, or “That number is not divisible by either 3 or 5”. Be sure to consider the data type of the input you are taking in from the user. Use a single if/else block to solve this problem."
   ]
  },
  {
   "cell_type": "code",
   "execution_count": 16,
   "metadata": {},
   "outputs": [
    {
     "name": "stdout",
     "output_type": "stream",
     "text": [
      "15\n",
      "15 is divisible by 3 or 5\n"
     ]
    }
   ],
   "source": [
    "value = int(input())\n",
    "if value % 3 == 0 and value % 5 == 0:\n",
    "    print(f\"{value} is divisible by 3 or 5\")\n"
   ]
  },
  {
   "cell_type": "markdown",
   "metadata": {
    "id": "06O9LGu2gtSM"
   },
   "source": []
  }
 ],
 "metadata": {
  "colab": {
   "authorship_tag": "ABX9TyMQ/X1rbq1CrnbyQtJRHkZW",
   "collapsed_sections": [],
   "provenance": []
  },
  "kernelspec": {
   "display_name": "Python 3 (ipykernel)",
   "language": "python",
   "name": "python3"
  },
  "language_info": {
   "codemirror_mode": {
    "name": "ipython",
    "version": 3
   },
   "file_extension": ".py",
   "mimetype": "text/x-python",
   "name": "python",
   "nbconvert_exporter": "python",
   "pygments_lexer": "ipython3",
   "version": "3.9.12"
  }
 },
 "nbformat": 4,
 "nbformat_minor": 1
}
